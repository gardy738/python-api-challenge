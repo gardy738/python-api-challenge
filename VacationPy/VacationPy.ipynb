{
 "cells": [
  {
   "cell_type": "markdown",
   "metadata": {},
   "source": [
    "# VacationPy\n",
    "----\n",
    "\n",
    "#### Note\n",
    "* Keep an eye on your API usage. Use https://developers.google.com/maps/reporting/gmp-reporting as reference for how to monitor your usage and billing.\n",
    "\n",
    "* Instructions have been included for each segment. You do not have to follow them exactly, but they are included to help you think through the steps."
   ]
  },
  {
   "cell_type": "code",
   "execution_count": null,
   "metadata": {},
   "outputs": [],
   "source": []
  },
  {
   "cell_type": "code",
   "execution_count": 5,
   "metadata": {},
   "outputs": [],
   "source": [
    "# Dependencies and Setup\n",
    "import matplotlib.pyplot as plt\n",
    "import pandas as pd\n",
    "import numpy as np\n",
    "import requests\n",
    "import gmaps\n",
    "import os\n",
    "import json\n",
    "\n",
    "# Import API key\n",
    "from api_keys import g_key"
   ]
  },
  {
   "cell_type": "code",
   "execution_count": 6,
   "metadata": {},
   "outputs": [
    {
     "data": {
      "text/html": [
       "<div>\n",
       "<style scoped>\n",
       "    .dataframe tbody tr th:only-of-type {\n",
       "        vertical-align: middle;\n",
       "    }\n",
       "\n",
       "    .dataframe tbody tr th {\n",
       "        vertical-align: top;\n",
       "    }\n",
       "\n",
       "    .dataframe thead th {\n",
       "        text-align: right;\n",
       "    }\n",
       "</style>\n",
       "<table border=\"1\" class=\"dataframe\">\n",
       "  <thead>\n",
       "    <tr style=\"text-align: right;\">\n",
       "      <th></th>\n",
       "      <th>Unnamed: 0</th>\n",
       "      <th>City</th>\n",
       "      <th>Lat</th>\n",
       "      <th>Lng</th>\n",
       "      <th>Max Temp</th>\n",
       "      <th>Humidity</th>\n",
       "      <th>Cloudiness</th>\n",
       "      <th>Wind Speed</th>\n",
       "      <th>Country</th>\n",
       "      <th>Date</th>\n",
       "    </tr>\n",
       "  </thead>\n",
       "  <tbody>\n",
       "    <tr>\n",
       "      <th>0</th>\n",
       "      <td>0</td>\n",
       "      <td>Mehrān</td>\n",
       "      <td>33.1222</td>\n",
       "      <td>46.1646</td>\n",
       "      <td>75.236</td>\n",
       "      <td>27</td>\n",
       "      <td>1</td>\n",
       "      <td>2.00</td>\n",
       "      <td>IR</td>\n",
       "      <td>1666753662</td>\n",
       "    </tr>\n",
       "    <tr>\n",
       "      <th>1</th>\n",
       "      <td>1</td>\n",
       "      <td>Vaini</td>\n",
       "      <td>-21.2000</td>\n",
       "      <td>-175.2000</td>\n",
       "      <td>75.362</td>\n",
       "      <td>64</td>\n",
       "      <td>75</td>\n",
       "      <td>3.09</td>\n",
       "      <td>TO</td>\n",
       "      <td>1666753665</td>\n",
       "    </tr>\n",
       "    <tr>\n",
       "      <th>2</th>\n",
       "      <td>2</td>\n",
       "      <td>Hithadhoo</td>\n",
       "      <td>-0.6000</td>\n",
       "      <td>73.0833</td>\n",
       "      <td>82.274</td>\n",
       "      <td>74</td>\n",
       "      <td>57</td>\n",
       "      <td>5.32</td>\n",
       "      <td>MV</td>\n",
       "      <td>1666753666</td>\n",
       "    </tr>\n",
       "    <tr>\n",
       "      <th>3</th>\n",
       "      <td>3</td>\n",
       "      <td>Kauhajoki</td>\n",
       "      <td>62.4333</td>\n",
       "      <td>22.1833</td>\n",
       "      <td>37.382</td>\n",
       "      <td>99</td>\n",
       "      <td>100</td>\n",
       "      <td>1.70</td>\n",
       "      <td>FI</td>\n",
       "      <td>1666753667</td>\n",
       "    </tr>\n",
       "    <tr>\n",
       "      <th>4</th>\n",
       "      <td>4</td>\n",
       "      <td>Najrān</td>\n",
       "      <td>17.4924</td>\n",
       "      <td>44.1277</td>\n",
       "      <td>61.124</td>\n",
       "      <td>27</td>\n",
       "      <td>0</td>\n",
       "      <td>0.17</td>\n",
       "      <td>SA</td>\n",
       "      <td>1666753669</td>\n",
       "    </tr>\n",
       "    <tr>\n",
       "      <th>...</th>\n",
       "      <td>...</td>\n",
       "      <td>...</td>\n",
       "      <td>...</td>\n",
       "      <td>...</td>\n",
       "      <td>...</td>\n",
       "      <td>...</td>\n",
       "      <td>...</td>\n",
       "      <td>...</td>\n",
       "      <td>...</td>\n",
       "      <td>...</td>\n",
       "    </tr>\n",
       "    <tr>\n",
       "      <th>574</th>\n",
       "      <td>580</td>\n",
       "      <td>Shenkursk</td>\n",
       "      <td>62.1091</td>\n",
       "      <td>42.8960</td>\n",
       "      <td>28.796</td>\n",
       "      <td>94</td>\n",
       "      <td>21</td>\n",
       "      <td>1.96</td>\n",
       "      <td>RU</td>\n",
       "      <td>1666754488</td>\n",
       "    </tr>\n",
       "    <tr>\n",
       "      <th>575</th>\n",
       "      <td>581</td>\n",
       "      <td>Vostok</td>\n",
       "      <td>46.4856</td>\n",
       "      <td>135.8833</td>\n",
       "      <td>48.632</td>\n",
       "      <td>29</td>\n",
       "      <td>14</td>\n",
       "      <td>1.82</td>\n",
       "      <td>RU</td>\n",
       "      <td>1666754489</td>\n",
       "    </tr>\n",
       "    <tr>\n",
       "      <th>576</th>\n",
       "      <td>582</td>\n",
       "      <td>Bonavista</td>\n",
       "      <td>48.6499</td>\n",
       "      <td>-53.1147</td>\n",
       "      <td>52.646</td>\n",
       "      <td>83</td>\n",
       "      <td>89</td>\n",
       "      <td>3.47</td>\n",
       "      <td>CA</td>\n",
       "      <td>1666754491</td>\n",
       "    </tr>\n",
       "    <tr>\n",
       "      <th>577</th>\n",
       "      <td>583</td>\n",
       "      <td>Fallon</td>\n",
       "      <td>39.4735</td>\n",
       "      <td>-118.7774</td>\n",
       "      <td>48.074</td>\n",
       "      <td>52</td>\n",
       "      <td>75</td>\n",
       "      <td>2.57</td>\n",
       "      <td>US</td>\n",
       "      <td>1666754492</td>\n",
       "    </tr>\n",
       "    <tr>\n",
       "      <th>578</th>\n",
       "      <td>584</td>\n",
       "      <td>Koungou</td>\n",
       "      <td>-12.7336</td>\n",
       "      <td>45.2042</td>\n",
       "      <td>78.512</td>\n",
       "      <td>78</td>\n",
       "      <td>100</td>\n",
       "      <td>5.14</td>\n",
       "      <td>YT</td>\n",
       "      <td>1666754493</td>\n",
       "    </tr>\n",
       "  </tbody>\n",
       "</table>\n",
       "<p>579 rows × 10 columns</p>\n",
       "</div>"
      ],
      "text/plain": [
       "     Unnamed: 0       City      Lat       Lng  Max Temp  Humidity  Cloudiness  \\\n",
       "0             0     Mehrān  33.1222   46.1646    75.236        27           1   \n",
       "1             1      Vaini -21.2000 -175.2000    75.362        64          75   \n",
       "2             2  Hithadhoo  -0.6000   73.0833    82.274        74          57   \n",
       "3             3  Kauhajoki  62.4333   22.1833    37.382        99         100   \n",
       "4             4     Najrān  17.4924   44.1277    61.124        27           0   \n",
       "..          ...        ...      ...       ...       ...       ...         ...   \n",
       "574         580  Shenkursk  62.1091   42.8960    28.796        94          21   \n",
       "575         581     Vostok  46.4856  135.8833    48.632        29          14   \n",
       "576         582  Bonavista  48.6499  -53.1147    52.646        83          89   \n",
       "577         583     Fallon  39.4735 -118.7774    48.074        52          75   \n",
       "578         584    Koungou -12.7336   45.2042    78.512        78         100   \n",
       "\n",
       "     Wind Speed Country        Date  \n",
       "0          2.00      IR  1666753662  \n",
       "1          3.09      TO  1666753665  \n",
       "2          5.32      MV  1666753666  \n",
       "3          1.70      FI  1666753667  \n",
       "4          0.17      SA  1666753669  \n",
       "..          ...     ...         ...  \n",
       "574        1.96      RU  1666754488  \n",
       "575        1.82      RU  1666754489  \n",
       "576        3.47      CA  1666754491  \n",
       "577        2.57      US  1666754492  \n",
       "578        5.14      YT  1666754493  \n",
       "\n",
       "[579 rows x 10 columns]"
      ]
     },
     "execution_count": 6,
     "metadata": {},
     "output_type": "execute_result"
    }
   ],
   "source": [
    "results = pd.read_csv('..\\Output_Data\\Cities.csv')\n",
    "results"
   ]
  },
  {
   "cell_type": "code",
   "execution_count": null,
   "metadata": {},
   "outputs": [],
   "source": []
  },
  {
   "cell_type": "markdown",
   "metadata": {},
   "source": [
    "### Store Part I results into DataFrame\n",
    "* Load the csv exported in Part I to a DataFrame"
   ]
  },
  {
   "cell_type": "code",
   "execution_count": 4,
   "metadata": {},
   "outputs": [],
   "source": [
    "# Load the cities\n",
    "results = pd.read_csv('..\\Output_Data\\Cities.csv')"
   ]
  },
  {
   "cell_type": "markdown",
   "metadata": {},
   "source": [
    "### Humidity Heatmap\n",
    "* Configure gmaps.\n",
    "* Use the Lat and Lng as locations and Humidity as the weight.\n",
    "* Add Heatmap layer to map."
   ]
  },
  {
   "cell_type": "code",
   "execution_count": 7,
   "metadata": {},
   "outputs": [],
   "source": [
    "gmaps.configure(api_key=g_key)"
   ]
  },
  {
   "cell_type": "code",
   "execution_count": 8,
   "metadata": {},
   "outputs": [],
   "source": [
    "locations = results[[\"Lat\",\"Lng\"]]\n",
    "map_weight = results['Humidity']\n"
   ]
  },
  {
   "cell_type": "code",
   "execution_count": 9,
   "metadata": {},
   "outputs": [
    {
     "data": {
      "application/vnd.jupyter.widget-view+json": {
       "model_id": "c3ffcefedbaa4f72b87b45d00dc7d866",
       "version_major": 2,
       "version_minor": 0
      },
      "text/plain": [
       "Figure(layout=FigureLayout(height='420px'))"
      ]
     },
     "metadata": {},
     "output_type": "display_data"
    }
   ],
   "source": [
    "fig = gmaps.figure(zoom_level=2, center=(35,-84))\n",
    "\n",
    "heat_layer = gmaps.heatmap_layer(locations, weights = map_weight,\n",
    "                                dissipating = False, max_intensity=10,\n",
    "                                point_radius=1)\n",
    "\n",
    "fig.add_layer(heat_layer)\n",
    "fig\n"
   ]
  },
  {
   "cell_type": "code",
   "execution_count": 10,
   "metadata": {
    "scrolled": true
   },
   "outputs": [
    {
     "data": {
      "text/html": [
       "<div>\n",
       "<style scoped>\n",
       "    .dataframe tbody tr th:only-of-type {\n",
       "        vertical-align: middle;\n",
       "    }\n",
       "\n",
       "    .dataframe tbody tr th {\n",
       "        vertical-align: top;\n",
       "    }\n",
       "\n",
       "    .dataframe thead th {\n",
       "        text-align: right;\n",
       "    }\n",
       "</style>\n",
       "<table border=\"1\" class=\"dataframe\">\n",
       "  <thead>\n",
       "    <tr style=\"text-align: right;\">\n",
       "      <th></th>\n",
       "      <th>Unnamed: 0</th>\n",
       "      <th>City</th>\n",
       "      <th>Lat</th>\n",
       "      <th>Lng</th>\n",
       "      <th>Max Temp</th>\n",
       "      <th>Humidity</th>\n",
       "      <th>Cloudiness</th>\n",
       "      <th>Wind Speed</th>\n",
       "      <th>Country</th>\n",
       "      <th>Date</th>\n",
       "    </tr>\n",
       "  </thead>\n",
       "  <tbody>\n",
       "    <tr>\n",
       "      <th>0</th>\n",
       "      <td>0</td>\n",
       "      <td>Mehrān</td>\n",
       "      <td>33.1222</td>\n",
       "      <td>46.1646</td>\n",
       "      <td>75.236</td>\n",
       "      <td>27</td>\n",
       "      <td>1</td>\n",
       "      <td>2.00</td>\n",
       "      <td>IR</td>\n",
       "      <td>1666753662</td>\n",
       "    </tr>\n",
       "    <tr>\n",
       "      <th>18</th>\n",
       "      <td>18</td>\n",
       "      <td>Coahuayana Viejo</td>\n",
       "      <td>18.7333</td>\n",
       "      <td>-103.6833</td>\n",
       "      <td>76.964</td>\n",
       "      <td>92</td>\n",
       "      <td>39</td>\n",
       "      <td>0.68</td>\n",
       "      <td>MX</td>\n",
       "      <td>1666753691</td>\n",
       "    </tr>\n",
       "    <tr>\n",
       "      <th>43</th>\n",
       "      <td>43</td>\n",
       "      <td>Maceió</td>\n",
       "      <td>-9.6658</td>\n",
       "      <td>-35.7353</td>\n",
       "      <td>74.642</td>\n",
       "      <td>88</td>\n",
       "      <td>0</td>\n",
       "      <td>2.06</td>\n",
       "      <td>BR</td>\n",
       "      <td>1666753727</td>\n",
       "    </tr>\n",
       "    <tr>\n",
       "      <th>54</th>\n",
       "      <td>55</td>\n",
       "      <td>Carnarvon</td>\n",
       "      <td>-24.8667</td>\n",
       "      <td>113.6333</td>\n",
       "      <td>72.356</td>\n",
       "      <td>48</td>\n",
       "      <td>0</td>\n",
       "      <td>8.80</td>\n",
       "      <td>AU</td>\n",
       "      <td>1666753744</td>\n",
       "    </tr>\n",
       "    <tr>\n",
       "      <th>56</th>\n",
       "      <td>57</td>\n",
       "      <td>Geraldton</td>\n",
       "      <td>-28.7667</td>\n",
       "      <td>114.6000</td>\n",
       "      <td>72.014</td>\n",
       "      <td>43</td>\n",
       "      <td>3</td>\n",
       "      <td>7.20</td>\n",
       "      <td>AU</td>\n",
       "      <td>1666753579</td>\n",
       "    </tr>\n",
       "  </tbody>\n",
       "</table>\n",
       "</div>"
      ],
      "text/plain": [
       "    Unnamed: 0              City      Lat       Lng  Max Temp  Humidity  \\\n",
       "0            0            Mehrān  33.1222   46.1646    75.236        27   \n",
       "18          18  Coahuayana Viejo  18.7333 -103.6833    76.964        92   \n",
       "43          43            Maceió  -9.6658  -35.7353    74.642        88   \n",
       "54          55         Carnarvon -24.8667  113.6333    72.356        48   \n",
       "56          57         Geraldton -28.7667  114.6000    72.014        43   \n",
       "\n",
       "    Cloudiness  Wind Speed Country        Date  \n",
       "0            1        2.00      IR  1666753662  \n",
       "18          39        0.68      MX  1666753691  \n",
       "43           0        2.06      BR  1666753727  \n",
       "54           0        8.80      AU  1666753744  \n",
       "56           3        7.20      AU  1666753579  "
      ]
     },
     "execution_count": 10,
     "metadata": {},
     "output_type": "execute_result"
    }
   ],
   "source": [
    "hotel_df = results.loc[(results[\"Max Temp\"] < 80) & (results[\"Max Temp\"] > 70) \\\n",
    "                                    & (results[\"Wind Speed\"] < 10) \\\n",
    "                                    & (results[\"Cloudiness\"] < 40)].dropna()\n",
    "hotel_df.head(5)"
   ]
  },
  {
   "cell_type": "code",
   "execution_count": null,
   "metadata": {},
   "outputs": [],
   "source": []
  },
  {
   "cell_type": "code",
   "execution_count": null,
   "metadata": {},
   "outputs": [],
   "source": [
    "# ideal_temp = results.loc[(results['Max Temp'] > 289 ) & (results['Max Temp'] < 297)]\n",
    "# ideal_cloud = ideal_temp.loc[results['Cloudiness'] < 50 ]\n",
    "# ideal_humidity = ideal_temp.loc[results['Humidity'] < 30 ]\n",
    "# ideal_city = ideal_humidity.loc[results['Wind Speed'] < 4.0]\n",
    "\n"
   ]
  },
  {
   "cell_type": "markdown",
   "metadata": {},
   "source": [
    "### Create new DataFrame fitting weather criteria\n",
    "* Narrow down the cities to fit weather conditions.\n",
    "* Drop any rows will null values."
   ]
  },
  {
   "cell_type": "code",
   "execution_count": 11,
   "metadata": {},
   "outputs": [],
   "source": [
    "hotel_df['Hotel Name'] = ''"
   ]
  },
  {
   "cell_type": "markdown",
   "metadata": {},
   "source": [
    "### Hotel Map\n",
    "* Store into variable named `hotel_df`.\n",
    "* Add a \"Hotel Name\" column to the DataFrame.\n",
    "* Set parameters to search for hotels with 5000 meters.\n",
    "* Hit the Google Places API for each city's coordinates.\n",
    "* Store the first Hotel result into the DataFrame.\n",
    "* Plot markers on top of the heatmap."
   ]
  },
  {
   "cell_type": "code",
   "execution_count": 12,
   "metadata": {},
   "outputs": [],
   "source": [
    "hotel_coordinates = hotel_df[[\"Lat\",\"Lng\"]]\n",
    "target_radius = 5000\n",
    "target_type = 'hotel'\n",
    "params = {\n",
    "    'location': hotel_coordinates,\n",
    "    'radius': target_radius,\n",
    "    'type': target_type,\n",
    "    'key': g_key\n",
    "}\n",
    "rating = hotel_df['Humidity']\n"
   ]
  },
  {
   "cell_type": "code",
   "execution_count": 13,
   "metadata": {},
   "outputs": [],
   "source": [
    "# Base url\n",
    "base_url = \"https://maps.googleapis.com/maps/api/place/nearbysearch/json\"\n",
    "# Send a request\n",
    "response = requests.get(base_url, params=params)"
   ]
  },
  {
   "cell_type": "code",
   "execution_count": 19,
   "metadata": {},
   "outputs": [
    {
     "name": "stdout",
     "output_type": "stream",
     "text": [
      "{'html_attributions': [], 'results': [], 'status': 'INVALID_REQUEST'}\n"
     ]
    }
   ],
   "source": [
    "print(response)"
   ]
  },
  {
   "cell_type": "code",
   "execution_count": 20,
   "metadata": {},
   "outputs": [],
   "source": [
    "# NOTE: Do not change any of the code in this cell\n",
    "\n",
    "# Using the template add the hotel marks to the heatmap\n",
    "info_box_template = \"\"\"\n",
    "<dl>\n",
    "<dt>Name</dt><dd>{Hotel Name}</dd>\n",
    "<dt>City</dt><dd>{City}</dd>\n",
    "<dt>Country</dt><dd>{Country}</dd>\n",
    "</dl>\n",
    "\"\"\"\n",
    "# Store the DataFrame Row\n",
    "# NOTE: be sure to update with your DataFrame name\n",
    "hotel_info = [info_box_template.format(**row) for index, row in hotel_df.iterrows()]\n",
    "locations = hotel_df[[\"Lat\", \"Lng\"]]"
   ]
  },
  {
   "cell_type": "code",
   "execution_count": 21,
   "metadata": {
    "scrolled": true
   },
   "outputs": [
    {
     "data": {
      "application/vnd.jupyter.widget-view+json": {
       "model_id": "1273580fa84d4e3296726d96adf03fdd",
       "version_major": 2,
       "version_minor": 0
      },
      "text/plain": [
       "Figure(layout=FigureLayout(height='420px'))"
      ]
     },
     "metadata": {},
     "output_type": "display_data"
    }
   ],
   "source": [
    "# Add marker layer ontop of heat map\n",
    "fig2 = gmaps.figure(zoom_level=3,center=(35,-90))\n",
    "heat_layer = gmaps.heatmap_layer(locations, weights = rating,\n",
    "                                 dissipating = False, max_intensity = 10,\n",
    "                                 point_radius = 1\n",
    "                                )\n",
    "marker_layer = gmaps.marker_layer(locations, info_box_content=hotel_info)\n",
    "fig2.add_layer(heat_layer)\n",
    "fig2.add_layer(marker_layer)\n",
    "# Display figure\n",
    "fig2"
   ]
  },
  {
   "cell_type": "code",
   "execution_count": null,
   "metadata": {},
   "outputs": [],
   "source": []
  },
  {
   "cell_type": "code",
   "execution_count": null,
   "metadata": {},
   "outputs": [],
   "source": []
  }
 ],
 "metadata": {
  "kernelspec": {
   "display_name": "Python 3 (ipykernel)",
   "language": "python",
   "name": "python3"
  },
  "language_info": {
   "codemirror_mode": {
    "name": "ipython",
    "version": 3
   },
   "file_extension": ".py",
   "mimetype": "text/x-python",
   "name": "python",
   "nbconvert_exporter": "python",
   "pygments_lexer": "ipython3",
   "version": "3.7.7"
  },
  "latex_envs": {
   "LaTeX_envs_menu_present": true,
   "autoclose": false,
   "autocomplete": true,
   "bibliofile": "biblio.bib",
   "cite_by": "apalike",
   "current_citInitial": 1,
   "eqLabelWithNumbers": true,
   "eqNumInitial": 1,
   "hotkeys": {
    "equation": "Ctrl-E",
    "itemize": "Ctrl-I"
   },
   "labels_anchors": false,
   "latex_user_defs": false,
   "report_style_numbering": false,
   "user_envs_cfg": false
  }
 },
 "nbformat": 4,
 "nbformat_minor": 4
}
